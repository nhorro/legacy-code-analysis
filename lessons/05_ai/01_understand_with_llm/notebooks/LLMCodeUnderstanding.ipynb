{
 "cells": [
  {
   "cell_type": "markdown",
   "id": "9a6cdc3f-6190-4f74-aba8-3bf8b474cffe",
   "metadata": {},
   "source": [
    "# Interpretar código con LLM\n",
    "\n",
    "Este cuaderno muestra como utilizar python para escanear un directorio de código fuente y generar resúmenes en Markdown con un LLM compatible con la API de OpenAI. En este caso se utilizó `qwen2.5-coder-7b-instructqwen2.5-coder-7b-instruct` en LMStudio. Estos resúmenes, combinados con una estrategia de RAG, podrían permitir navegar proyectos grandes, y superar la limitación del tamaño de la ventana de contexto."
   ]
  },
  {
   "cell_type": "code",
   "execution_count": 9,
   "id": "50ba2e97-0fd7-407b-80ac-d970af6c641c",
   "metadata": {},
   "outputs": [
    {
     "name": "stdout",
     "output_type": "stream",
     "text": [
      "\u001b[01;34m../../../../apps/calcjob\u001b[00m\n",
      "├── CalcJob.hpp\n",
      "├── CMakeLists.txt\n",
      "├── main.cpp\n",
      "├── Manager.hpp\n",
      "├── README.md\n",
      "├── Reporter.hpp\n",
      "└── Worker.hpp\n",
      "\n",
      "0 directories, 7 files\n"
     ]
    }
   ],
   "source": [
    "SRC_PATH=\"../../../../apps/calcjob\"\n",
    "!tree -I build {SRC_PATH}"
   ]
  },
  {
   "cell_type": "markdown",
   "id": "59bb5499-596c-429b-9abe-7f99a622502d",
   "metadata": {},
   "source": [
    "## 1. Escanear el directorio"
   ]
  },
  {
   "cell_type": "code",
   "execution_count": 64,
   "id": "c0bf5e38-528f-4ae8-8f2c-49b41e18257e",
   "metadata": {},
   "outputs": [],
   "source": [
    "from pathlib import Path\n",
    "\n",
    "class SourceCodeScanner:\n",
    "    def __init__(self, source_dirs, extensions, exclude_dirs, relative_paths=True):\n",
    "        \"\"\"\n",
    "        relative_paths=True → las rutas de los valores se guardan relativas al source_dir.\n",
    "        \"\"\"\n",
    "        self.source_dirs = source_dirs\n",
    "        self.extensions = extensions\n",
    "        self.exclude_dirs = exclude_dirs\n",
    "        self.relative_paths = relative_paths\n",
    "\n",
    "    def scan(self):\n",
    "        self.files = {}\n",
    "        for source_dir in self.source_dirs:\n",
    "            for file_path in source_dir.rglob(\"*\"):\n",
    "                if not file_path.is_file():\n",
    "                    continue\n",
    "                if any(part in self.exclude_dirs for part in file_path.parts):\n",
    "                    continue\n",
    "                if file_path.suffix in self.extensions:\n",
    "                    key = file_path.relative_to(source_dir)\n",
    "                    if self.relative_paths:\n",
    "                        value = str(key)\n",
    "                    else:\n",
    "                        value = str(file_path.resolve())\n",
    "                    self.files[str(key)] = value\n",
    "\n",
    "    def get_files(self):\n",
    "        \"\"\"\n",
    "        Devuelve un iterable (key, value) → (ruta_relativa, ruta_relativa/absoluta)\n",
    "        \"\"\"\n",
    "        return self.files.items()"
   ]
  },
  {
   "cell_type": "code",
   "execution_count": 65,
   "id": "68dc529d-72bc-4ad6-ab13-eda1c4fada46",
   "metadata": {},
   "outputs": [
    {
     "data": {
      "text/plain": [
       "dict_items([('Worker.hpp', 'Worker.hpp'), ('Reporter.hpp', 'Reporter.hpp'), ('Manager.hpp', 'Manager.hpp'), ('main.cpp', 'main.cpp'), ('CalcJob.hpp', 'CalcJob.hpp')])"
      ]
     },
     "execution_count": 65,
     "metadata": {},
     "output_type": "execute_result"
    }
   ],
   "source": [
    "sc = SourceCodeScanner(\n",
    "    source_dirs = [Path(SRC_PATH)], \n",
    "    extensions = [\".cpp\", \".h\", \".hpp\", \"CMakeLists.txt\"],  # extensiones que quieres incluir\n",
    "    exclude_dirs = [\"build\"]\n",
    ")\n",
    "sc.scan()\n",
    "\n",
    "sc.get_files()"
   ]
  },
  {
   "cell_type": "code",
   "execution_count": 66,
   "id": "6354fc56-7830-4d61-a905-f56937265fa3",
   "metadata": {},
   "outputs": [],
   "source": [
    "from openai import OpenAI\n",
    "import re  \n",
    "\n",
    "class SourceCodeInterpreter:\n",
    "    LLM_MODEL_NAME = \"qwen2.5-coder-7b-instruct\"\n",
    "\n",
    "    def __init__(self):\n",
    "        self.client = OpenAI(base_url=\"http://localhost:1234/v1\", api_key=\"lm-studio\")\n",
    "        self.system_prompt = (\n",
    "            \"Eres un analista de código. \"\n",
    "            \"Lee el siguiente código fuente y proporciona un **resumen conciso** en **Markdown**, \"\n",
    "            \"en **español**, que incluya:\\n\\n\"\n",
    "            \"- Una breve descripción del propósito del archivo.\\n\"\n",
    "            \"- Relación con otros archivos, o uso de clases o funciones de otros módulos.\\n\"\n",
    "            \"- Una lista de viñetas con las clases y funciones principales con una nota breve.\\n\"\n",
    "            \"- Cualquier detalle de diseño importante.\\n\"\n",
    "            \"- Mantén el formato claro, profesional y bien estructurado.\\n\"\n",
    "            \"- Comienza el reporte con una cabecera de segundo nivel (##).\\n\"\n",
    "        )\n",
    "\n",
    "    def query(self, file_content):\n",
    "        completion = self.client.chat.completions.create(\n",
    "            model=self.LLM_MODEL_NAME,\n",
    "            messages=[\n",
    "                {\"role\": \"system\", \"content\": self.system_prompt},\n",
    "                {\"role\": \"user\", \"content\": file_content},\n",
    "            ],\n",
    "            temperature=0.0,\n",
    "        )\n",
    "        return completion.choices[0].message.content\n",
    "\n",
    "def read_file(file_path):\n",
    "    with open(file_path, \"r\") as f:\n",
    "        return f.read()\n",
    "    \n",
    "def extract_markdown(text):\n",
    "    \"\"\"\n",
    "    Extrae el contenido dentro de ```markdown ... ```\n",
    "    Si no se encuentra, devuelve el texto tal cual.\n",
    "    \"\"\"\n",
    "    pattern = r\"```(?:markdown)?\\n(.*?)```\"\n",
    "    match = re.search(pattern, text, re.DOTALL)\n",
    "    if match:\n",
    "        return match.group(1).strip()\n",
    "    return text.strip()"
   ]
  },
  {
   "cell_type": "code",
   "execution_count": 68,
   "id": "87fbc82c-e7f8-4801-ae73-5a14579fa43d",
   "metadata": {},
   "outputs": [
    {
     "data": {
      "text/markdown": [
       "# Archivo: Worker.hpp"
      ],
      "text/plain": [
       "<IPython.core.display.Markdown object>"
      ]
     },
     "metadata": {},
     "output_type": "display_data"
    },
    {
     "data": {
      "text/markdown": [
       "---"
      ],
      "text/plain": [
       "<IPython.core.display.Markdown object>"
      ]
     },
     "metadata": {},
     "output_type": "display_data"
    },
    {
     "data": {
      "text/markdown": [
       "## Resumen del Código\n",
       "\n",
       "Este archivo define una clase `Worker` que se encarga de procesar tareas asincrónicas utilizando un hilo separado. La clase interactúa con otras clases y módulos a través de la inclusión de `CalcJob.hpp`, lo que sugiere que `Worker` trabaja con objetos de tipo `CalcJob`.\n",
       "\n",
       "### Relación con Otros Archivos\n",
       "- **CalcJob.hpp**: Este archivo probablemente contiene la definición de la clase `CalcJob`, que representa una tarea o trabajo a procesar.\n",
       "\n",
       "### Clases y Funciones Principales\n",
       "\n",
       "- **Worker**:\n",
       "  - **Callbacks**: La clase utiliza un tipo de función (`Callback`) para manejar el evento cuando una tarea se completa.\n",
       "  \n",
       "- **Métodos Publicos**:\n",
       "  - `start()`: Inicia el hilo de trabajo.\n",
       "  - `stopWorker()`: Detiene el hilo de trabajo y espera a que termine.\n",
       "  - `enqueueJob(const CalcJob& job)`: Encola una nueva tarea para procesar.\n",
       "  - `onJobDone(Callback cb)`: Establece un callback que se ejecuta cuando una tarea se completa.\n",
       "\n",
       "- **Métodos Privados**:\n",
       "  - `run()`: Método principal del hilo de trabajo, donde se espera y procesa las tareas.\n",
       "  - `process(CalcJob& job)`: Procesa la tarea según el operador especificado en `CalcJob`.\n",
       "\n",
       "### Detalles de Diseño Importantes\n",
       "\n",
       "- **Concurrencia**: Utiliza un hilo separado para procesar tareas, lo que permite una ejecución concurrente.\n",
       "- **Sincronización**: Se utiliza un mutex (`mtx`) y una variable condicional (`cv`) para sincronizar el acceso a la cola de tareas entre el hilo principal y el hilo de trabajo.\n",
       "- **Seguridad de Cierre**: El método `stopWorker()` asegura que el hilo termina correctamente incluso si no hay más tareas en la cola.\n",
       "\n",
       "Este diseño permite una implementación eficiente y segura para procesar tareas asincrónicas, con un buen manejo de concurrencia y sincronización."
      ],
      "text/plain": [
       "<IPython.core.display.Markdown object>"
      ]
     },
     "metadata": {},
     "output_type": "display_data"
    },
    {
     "data": {
      "text/markdown": [
       "---"
      ],
      "text/plain": [
       "<IPython.core.display.Markdown object>"
      ]
     },
     "metadata": {},
     "output_type": "display_data"
    },
    {
     "data": {
      "text/markdown": [
       "# Archivo: Reporter.hpp"
      ],
      "text/plain": [
       "<IPython.core.display.Markdown object>"
      ]
     },
     "metadata": {},
     "output_type": "display_data"
    },
    {
     "data": {
      "text/markdown": [
       "---"
      ],
      "text/plain": [
       "<IPython.core.display.Markdown object>"
      ]
     },
     "metadata": {},
     "output_type": "display_data"
    },
    {
     "data": {
      "text/markdown": [
       "## Resumen del Código\n",
       "\n",
       "Este archivo define una clase `Reporter` que se encarga de generar informes sobre el resultado de un trabajo de cálculo (`CalcJob`). La clase utiliza la información proporcionada por un objeto `CalcJob` para formatear y mostrar un mensaje en la consola.\n",
       "\n",
       "### Relación con Otros Archivos\n",
       "\n",
       "- **Dependencia**: El archivo incluye \"CalcJob.hpp\", lo que indica que `Reporter` depende de la definición de la clase `CalcJob`.\n",
       "\n",
       "### Clases y Funciones Principales\n",
       "\n",
       "- **Clase `Reporter`**:\n",
       "  - **Método `report(const CalcJob& job)`**: Este método toma un objeto `CalcJob` como parámetro y utiliza el método privado `opToStr` para convertir la operación en una cadena de texto legible. Luego, imprime el resultado del cálculo en la consola.\n",
       "\n",
       "- **Función Privada `const char* opToStr(CalcJob::Op op)`**:\n",
       "  - Convierte un valor de enumeración (`CalcJob::Op`) a su representación como una cadena de texto (\"+\", \"-\", \"*\", \"/\").\n",
       "\n",
       "### Detalles de Diseño Importantes\n",
       "\n",
       "- La clase `Reporter` es simple y se centra en la presentación de datos. No realiza ninguna lógica compleja o manipulación de datos.\n",
       "- El uso de un método privado para convertir operaciones a cadenas de texto ayuda a mantener el código limpio y organizado.\n",
       "\n",
       "Este archivo es una parte integral del sistema que maneja cálculos, proporcionando una interfaz para mostrar los resultados en la consola."
      ],
      "text/plain": [
       "<IPython.core.display.Markdown object>"
      ]
     },
     "metadata": {},
     "output_type": "display_data"
    },
    {
     "data": {
      "text/markdown": [
       "---"
      ],
      "text/plain": [
       "<IPython.core.display.Markdown object>"
      ]
     },
     "metadata": {},
     "output_type": "display_data"
    },
    {
     "data": {
      "text/markdown": [
       "# Archivo: Manager.hpp"
      ],
      "text/plain": [
       "<IPython.core.display.Markdown object>"
      ]
     },
     "metadata": {},
     "output_type": "display_data"
    },
    {
     "data": {
      "text/markdown": [
       "---"
      ],
      "text/plain": [
       "<IPython.core.display.Markdown object>"
      ]
     },
     "metadata": {},
     "output_type": "display_data"
    },
    {
     "data": {
      "text/markdown": [
       "## Resumen del Código\n",
       "\n",
       "Este archivo define la clase `Manager`, que es un componente central en una aplicación que coordina las tareas entre un trabajador (`Worker`) y un informe (`Reporter`). La clase `Manager` se encarga de iniciar, detener y gestionar los trabajos asignados a los trabajadores.\n",
       "\n",
       "### Relación con Otros Archivos\n",
       "\n",
       "- **Worker.hpp**: Este archivo probablemente contiene la definición de la clase `Worker`, que es responsable de realizar tareas.\n",
       "- **Reporter.hpp**: Este archivo probablemente contenga la definición de la clase `Reporter`, que se encarga de generar informes sobre las tareas completadas.\n",
       "\n",
       "### Clases y Funciones Principales\n",
       "\n",
       "- **Manager()**: Constructor de la clase `Manager`. Configura un callback en el trabajador para que, cuando una tarea esté completa, el informe genere un reporte.\n",
       "  \n",
       "- **start()**: Inicia el trabajo del trabajador.\n",
       "\n",
       "- **stop()**: Detiene el trabajo del trabajador.\n",
       "\n",
       "- **submitJob(const CalcJob& job)**: Encola una nueva tarea para el trabajador.\n",
       "\n",
       "### Cualquier Detalle de Diseño Importante\n",
       "\n",
       "- La clase `Manager` utiliza un callback lambda para conectar la finalización de una tarea con la generación de un informe. Esto permite que el `Worker` no tenga conocimiento directo del `Reporter`, manteniendo así una separación clara de responsabilidades.\n",
       "  \n",
       "- El uso de clases como `Worker` y `Reporter` sugiere una arquitectura modular, donde cada componente tiene una única responsabilidad.\n",
       "\n",
       "Este diseño facilita la escalabilidad y el mantenimiento del código, ya que cada parte puede ser modificada o reemplazada independientemente de las demás."
      ],
      "text/plain": [
       "<IPython.core.display.Markdown object>"
      ]
     },
     "metadata": {},
     "output_type": "display_data"
    },
    {
     "data": {
      "text/markdown": [
       "---"
      ],
      "text/plain": [
       "<IPython.core.display.Markdown object>"
      ]
     },
     "metadata": {},
     "output_type": "display_data"
    },
    {
     "data": {
      "text/markdown": [
       "# Archivo: main.cpp"
      ],
      "text/plain": [
       "<IPython.core.display.Markdown object>"
      ]
     },
     "metadata": {},
     "output_type": "display_data"
    },
    {
     "data": {
      "text/markdown": [
       "---"
      ],
      "text/plain": [
       "<IPython.core.display.Markdown object>"
      ]
     },
     "metadata": {},
     "output_type": "display_data"
    },
    {
     "data": {
      "text/markdown": [
       "## Resumen del Código\n",
       "\n",
       "Este archivo es el punto de entrada principal de un programa que utiliza una clase `Manager` para gestionar y ejecutar tareas de cálculo. El programa crea una instancia de `Manager`, inicia su operación, envía varias tareas de cálculo a la instancia de `Manager`, espera un segundo antes de detener el `Manager`.\n",
       "\n",
       "### Relación con otros archivos o uso de clases o funciones\n",
       "\n",
       "- **Manager.hpp**: Este archivo probablemente contiene la definición de la clase `Manager` y posiblemente las clases y enumeraciones relacionadas como `CalcJob::Op`.\n",
       "- **std::thread** y **std::chrono**: Estos son namespaces de la biblioteca estándar de C++ utilizados para manejar hilos y temporizadores, respectivamente.\n",
       "\n",
       "### Clases y funciones principales\n",
       "\n",
       "- **Manager**: La clase principal que gestiona las tareas de cálculo.\n",
       "  - `start()`: Inicia el procesamiento de tareas.\n",
       "  - `submitJob(CalcJob job)`: Envía una tarea de cálculo a la lista de tareas pendientes.\n",
       "  - `stop()`: Detiene el procesamiento de tareas.\n",
       "\n",
       "- **CalcJob**: Una estructura que representa una tarea de cálculo, probablemente con miembros como `float num1`, `float num2` y `enum Op operation`.\n",
       "\n",
       "### Detalles de diseño importantes\n",
       "\n",
       "- El uso de hilos (`std::thread`) sugiere que la clase `Manager` puede estar utilizando múltiples hilos para procesar las tareas simultáneamente.\n",
       "- La función `submitJob` permite enviar tareas de cálculo, lo que indica una arquitectura orientada a eventos o un modelo de programación basado en callbacks.\n",
       "\n",
       "Este programa es un ejemplo sencillo de cómo se puede estructurar y organizar un sistema que requiere la gestión de tareas asincrónicas."
      ],
      "text/plain": [
       "<IPython.core.display.Markdown object>"
      ]
     },
     "metadata": {},
     "output_type": "display_data"
    },
    {
     "data": {
      "text/markdown": [
       "---"
      ],
      "text/plain": [
       "<IPython.core.display.Markdown object>"
      ]
     },
     "metadata": {},
     "output_type": "display_data"
    },
    {
     "data": {
      "text/markdown": [
       "# Archivo: CalcJob.hpp"
      ],
      "text/plain": [
       "<IPython.core.display.Markdown object>"
      ]
     },
     "metadata": {},
     "output_type": "display_data"
    },
    {
     "data": {
      "text/markdown": [
       "---"
      ],
      "text/plain": [
       "<IPython.core.display.Markdown object>"
      ]
     },
     "metadata": {},
     "output_type": "display_data"
    },
    {
     "data": {
      "text/markdown": [
       "## Descripción del Archivo\n",
       "\n",
       "El archivo proporciona una definición de estructura para un trabajo de cálculo (`CalcJob`). Esta estructura se utiliza para encapsular los detalles necesarios para realizar operaciones matemáticas básicas entre dos números.\n",
       "\n",
       "## Relación con Otros Archivos o Uso de Clases/Funciones de Otros Módulos\n",
       "\n",
       "Esta estructura no depende explícitamente de otros archivos o clases. Se puede utilizar en cualquier módulo que requiera realizar cálculos basados en operaciones aritméticas entre dos números.\n",
       "\n",
       "## Clases y Funciones Principales\n",
       "\n",
       "- **`CalcJob`**: Estructura que encapsula los detalles necesarios para un trabajo de cálculo.\n",
       "  - `a`, `b`: Dos valores flotantes que representan los operandos del cálculo.\n",
       "  - `op`: Enumeración que define la operación a realizar (`Add`, `Sub`, `Mul`, `Div`).\n",
       "  - `result`: Valor flotante que almacena el resultado del cálculo.\n",
       "\n",
       "## Detalles de Diseño Importantes\n",
       "\n",
       "- La estructura `CalcJob` es simple y directa, lo que facilita su uso en diferentes partes del código.\n",
       "- El uso de una enumeración para las operaciones permite un manejo claro y seguro de los tipos de operaciones permitidas.\n",
       "- La inclusión de un miembro `result` preinicializado a 0.0f asegura que siempre haya un valor válido para el resultado, incluso si no se ha realizado ninguna operación.\n",
       "\n",
       "Este diseño es adecuado para aplicaciones donde se necesitan realizar cálculos básicos y los resultados deben ser almacenados de manera eficiente."
      ],
      "text/plain": [
       "<IPython.core.display.Markdown object>"
      ]
     },
     "metadata": {},
     "output_type": "display_data"
    },
    {
     "data": {
      "text/markdown": [
       "---"
      ],
      "text/plain": [
       "<IPython.core.display.Markdown object>"
      ]
     },
     "metadata": {},
     "output_type": "display_data"
    }
   ],
   "source": [
    "from IPython.display import Markdown, display\n",
    "\n",
    "sci = SourceCodeInterpreter()\n",
    "\n",
    "for filename,relative_path in sc.get_files():    \n",
    "    display(Markdown(f\"# Archivo: {filename}\"))\n",
    "    display(Markdown(\"---\"))\n",
    "    raw_response = sci.query(read_file(Path(SRC_PATH) / Path(relative_path)))\n",
    "    markdown_text = extract_markdown(raw_response)\n",
    "    display(Markdown(markdown_text))\n",
    "    display(Markdown(\"---\"))"
   ]
  }
 ],
 "metadata": {
  "kernelspec": {
   "display_name": "Python 3 (ipykernel)",
   "language": "python",
   "name": "python3"
  },
  "language_info": {
   "codemirror_mode": {
    "name": "ipython",
    "version": 3
   },
   "file_extension": ".py",
   "mimetype": "text/x-python",
   "name": "python",
   "nbconvert_exporter": "python",
   "pygments_lexer": "ipython3",
   "version": "3.8.8"
  }
 },
 "nbformat": 4,
 "nbformat_minor": 5
}
